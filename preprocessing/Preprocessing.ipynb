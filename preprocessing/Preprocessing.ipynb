{
 "cells": [
  {
   "cell_type": "code",
   "execution_count": 236,
   "metadata": {
    "collapsed": true
   },
   "outputs": [],
   "source": [
    "import pandas as pd \n",
    "import numpy as np \n",
    "import json as js\n",
    "import csv\n",
    "import matplotlib.pyplot as plt\n",
    "import re\n",
    "import os"
   ]
  },
  {
   "cell_type": "code",
   "execution_count": 2,
   "metadata": {
    "collapsed": true
   },
   "outputs": [],
   "source": [
    "%matplotlib inline"
   ]
  },
  {
   "cell_type": "markdown",
   "metadata": {},
   "source": [
    "### Read Data"
   ]
  },
  {
   "cell_type": "code",
   "execution_count": 344,
   "metadata": {
    "collapsed": true
   },
   "outputs": [],
   "source": [
    "def read(df, output_columns, category, department, start_year=1):\n",
    "    \n",
    "    cohort_index = df.index[df.iloc[:, 0] == 'Headcount'][0]\n",
    "    years_index = df.index[df.iloc[:, 0].map(lambda x: (True if re.search('^after.*(year|years)$', x, re.IGNORECASE) else False) if type(x) == str else False)].tolist()\n",
    "    batch_years = df.iloc[cohort_index, :][~pd.isnull(df.iloc[cohort_index, :])][1:].map(lambda x: int(x)).tolist()\n",
    "    batch_index = df.iloc[cohort_index, :][~pd.isnull(df.iloc[cohort_index, :])][1:].index.tolist()\n",
    "    \n",
    "    data = []\n",
    "\n",
    "    def proc_data(info, i):\n",
    "        for idx in range(len(batch_index)):\n",
    "            batch = batch_years[idx]\n",
    "            j = batch_index[idx]\n",
    "            value = df.iloc[i, j]\n",
    "            if not pd.isnull(value):\n",
    "                row = [department, category, batch] + info\n",
    "                row.append(value)\n",
    "                data.append(row)\n",
    "\n",
    "    def sweep_right(df, top, bottom, j, wall, info, callback, discard_first_column = True):\n",
    "        if j == wall:\n",
    "            if (bottom - top) != 1:\n",
    "                raise Exception('sweep_right must arrive at a single cell at the rightmost column of the Headcount section.')\n",
    "            callback(info, top)\n",
    "            return\n",
    "\n",
    "        this_top = None\n",
    "        for i in range(top, bottom):\n",
    "            if this_top and not pd.isnull(df.iloc[i, j]):\n",
    "                if discard_first_column and j==1:\n",
    "                    sweep_right(df, this_top, i, j+1, wall, info, callback)\n",
    "                else:\n",
    "                    sweep_right(df, this_top, i, j+1, wall, info + [df.iloc[this_top, j]], callback)\n",
    "                this_top = i\n",
    "                continue\n",
    "            elif not pd.isnull(df.iloc[i, j]):\n",
    "                this_top = i\n",
    "                continue\n",
    "            elif this_top:\n",
    "                continue\n",
    "            else:\n",
    "                raise Exception('First row is empty!')\n",
    "        if not re.search('.*total$', df.iloc[this_top, j], re.IGNORECASE):\n",
    "            if discard_first_column and j==1:\n",
    "                sweep_right(df, this_top, bottom, j+1, wall, info, callback)\n",
    "            else:\n",
    "                sweep_right(df, this_top, bottom, j+1, wall, info + [df.iloc[this_top, j]], callback)\n",
    "    \n",
    "    years = list(range(start_year, start_year+len(years_index)+1))\n",
    "\n",
    "    for i in range(0, len(years_index)-1):\n",
    "        top = years_index[i]\n",
    "        bottom = years_index[i+1]\n",
    "        sweep_right(df, top, bottom, 1, batch_index[0], [years[i]], proc_data)\n",
    "\n",
    "    last_bottom = df.shape[0]\n",
    "    for i in range(years_index[-1] + 1, df.shape[0]):\n",
    "        if not pd.isnull(df.iloc[i, 0]):\n",
    "            last_bottom = i\n",
    "\n",
    "    sweep_right(df, years_index[-1], last_bottom, 1, batch_index[0], [years[-1]], proc_data)\n",
    "\n",
    "    return pd.DataFrame(data, columns=output_columns)"
   ]
  },
  {
   "cell_type": "code",
   "execution_count": 345,
   "metadata": {
    "collapsed": false
   },
   "outputs": [],
   "source": [
    "folder_name = 'Major Flow Data'\n",
    "create_data_params = []\n",
    "\n",
    "for (dir_path, _, files) in list(os.walk(folder_name + '/'))[1:]:\n",
    "    for file_name in files:\n",
    "        prefix = re.search('.*(?=Flow by Major Progression Report.xlsx$)', file_name).group(0).strip()\n",
    "        if '_' in prefix[:-1]:\n",
    "            category = re.search('(?<=_).*', prefix[:-1]).group(0)\n",
    "        else:\n",
    "            category = 'All'\n",
    "        department = re.search('^.*?(?=_)', prefix).group(0)\n",
    "        create_data_params.append([dir_path + '/' + file_name, department, category])"
   ]
  },
  {
   "cell_type": "code",
   "execution_count": 346,
   "metadata": {
    "collapsed": false
   },
   "outputs": [],
   "source": [
    "df_continuing = []\n",
    "df_graduated = []\n",
    "\n",
    "for (path, department, category) in create_data_params:\n",
    "    df = pd.read_excel(path, sheetname='Continuing Detail_2', header=None)\n",
    "    col_names = ['department', 'category', 'batch', 'year', 'major_from', 'code_from', 'status', 'college_to', 'major_to', 'code_to', 'number']\n",
    "    continuing = read(df, col_names, category=category, department=department, start_year=1)\n",
    "    \n",
    "    df = pd.read_excel(path, sheetname='Graduated Detail_3', header=None)\n",
    "    col_names = ['department', 'category', 'batch', 'year', 'major_from', 'code_from', 'status', 'college_to', 'major_to', 'number']\n",
    "    graduated = read(df, col_names, category=category, department=department, start_year=3)\n",
    "    \n",
    "    df_continuing.append(continuing)\n",
    "    df_graduated.append(graduated)"
   ]
  },
  {
   "cell_type": "code",
   "execution_count": 347,
   "metadata": {
    "collapsed": false
   },
   "outputs": [],
   "source": [
    "continuing_combined = pd.concat(df_continuing, ignore_index=True)\n",
    "graduated_combined = pd.concat(df_graduated, ignore_index=True)\n",
    "graduated_combined['code_to'] = ''\n",
    "continuing_combined['flow_type'] = 'Continuing'\n",
    "graduated_combined['flow_type'] = 'Graduated'\n",
    "data_combined = pd.concat((continuing_combined, graduated_combined), ignore_index=True)"
   ]
  },
  {
   "cell_type": "code",
   "execution_count": 350,
   "metadata": {
    "collapsed": false
   },
   "outputs": [
    {
     "data": {
      "text/html": [
       "<div>\n",
       "<style>\n",
       "    .dataframe thead tr:only-child th {\n",
       "        text-align: right;\n",
       "    }\n",
       "\n",
       "    .dataframe thead th {\n",
       "        text-align: left;\n",
       "    }\n",
       "\n",
       "    .dataframe tbody tr th {\n",
       "        vertical-align: top;\n",
       "    }\n",
       "</style>\n",
       "<table border=\"1\" class=\"dataframe\">\n",
       "  <thead>\n",
       "    <tr style=\"text-align: right;\">\n",
       "      <th></th>\n",
       "      <th>batch</th>\n",
       "      <th>category</th>\n",
       "      <th>code_from</th>\n",
       "      <th>code_to</th>\n",
       "      <th>college_to</th>\n",
       "      <th>department</th>\n",
       "      <th>flow_type</th>\n",
       "      <th>major_from</th>\n",
       "      <th>major_to</th>\n",
       "      <th>number</th>\n",
       "      <th>status</th>\n",
       "      <th>year</th>\n",
       "    </tr>\n",
       "  </thead>\n",
       "  <tbody>\n",
       "    <tr>\n",
       "      <th>0</th>\n",
       "      <td>20049</td>\n",
       "      <td>All</td>\n",
       "      <td>E12200</td>\n",
       "      <td>E12200</td>\n",
       "      <td>NATURAL SCIENCES</td>\n",
       "      <td>Astronomy</td>\n",
       "      <td>Continuing</td>\n",
       "      <td>AST BS ASTRONOMY</td>\n",
       "      <td>AST BS ASTRONOMY</td>\n",
       "      <td>3.0</td>\n",
       "      <td>Continuing - Same Major</td>\n",
       "      <td>1</td>\n",
       "    </tr>\n",
       "    <tr>\n",
       "      <th>1</th>\n",
       "      <td>20059</td>\n",
       "      <td>All</td>\n",
       "      <td>E12200</td>\n",
       "      <td>E12200</td>\n",
       "      <td>NATURAL SCIENCES</td>\n",
       "      <td>Astronomy</td>\n",
       "      <td>Continuing</td>\n",
       "      <td>AST BS ASTRONOMY</td>\n",
       "      <td>AST BS ASTRONOMY</td>\n",
       "      <td>3.0</td>\n",
       "      <td>Continuing - Same Major</td>\n",
       "      <td>1</td>\n",
       "    </tr>\n",
       "    <tr>\n",
       "      <th>2</th>\n",
       "      <td>20069</td>\n",
       "      <td>All</td>\n",
       "      <td>E12200</td>\n",
       "      <td>E12100</td>\n",
       "      <td>NATURAL SCIENCES</td>\n",
       "      <td>Astronomy</td>\n",
       "      <td>Continuing</td>\n",
       "      <td>AST BS ASTRONOMY</td>\n",
       "      <td>ASTRONOMY ENTRY</td>\n",
       "      <td>1.0</td>\n",
       "      <td>Cont in Another Major - Same College</td>\n",
       "      <td>1</td>\n",
       "    </tr>\n",
       "    <tr>\n",
       "      <th>3</th>\n",
       "      <td>20049</td>\n",
       "      <td>All</td>\n",
       "      <td>E12200</td>\n",
       "      <td>E20900</td>\n",
       "      <td>NATURAL SCIENCES</td>\n",
       "      <td>Astronomy</td>\n",
       "      <td>Continuing</td>\n",
       "      <td>AST BS ASTRONOMY</td>\n",
       "      <td>CHEM (BSCH) CHEM</td>\n",
       "      <td>1.0</td>\n",
       "      <td>Cont in Another Major - Same College</td>\n",
       "      <td>1</td>\n",
       "    </tr>\n",
       "    <tr>\n",
       "      <th>4</th>\n",
       "      <td>20069</td>\n",
       "      <td>All</td>\n",
       "      <td>E12200</td>\n",
       "      <td>434500</td>\n",
       "      <td>COCKRELL SCHL OF ENGINEERING</td>\n",
       "      <td>Astronomy</td>\n",
       "      <td>Continuing</td>\n",
       "      <td>AST BS ASTRONOMY</td>\n",
       "      <td>ELECTRICAL ENGR</td>\n",
       "      <td>1.0</td>\n",
       "      <td>Cont - Another College</td>\n",
       "      <td>1</td>\n",
       "    </tr>\n",
       "  </tbody>\n",
       "</table>\n",
       "</div>"
      ],
      "text/plain": [
       "   batch category code_from code_to                    college_to department  \\\n",
       "0  20049      All    E12200  E12200              NATURAL SCIENCES  Astronomy   \n",
       "1  20059      All    E12200  E12200              NATURAL SCIENCES  Astronomy   \n",
       "2  20069      All    E12200  E12100              NATURAL SCIENCES  Astronomy   \n",
       "3  20049      All    E12200  E20900              NATURAL SCIENCES  Astronomy   \n",
       "4  20069      All    E12200  434500  COCKRELL SCHL OF ENGINEERING  Astronomy   \n",
       "\n",
       "    flow_type         major_from           major_to  number  \\\n",
       "0  Continuing  AST BS ASTRONOMY   AST BS ASTRONOMY      3.0   \n",
       "1  Continuing  AST BS ASTRONOMY   AST BS ASTRONOMY      3.0   \n",
       "2  Continuing  AST BS ASTRONOMY    ASTRONOMY ENTRY      1.0   \n",
       "3  Continuing  AST BS ASTRONOMY   CHEM (BSCH) CHEM      1.0   \n",
       "4  Continuing  AST BS ASTRONOMY    ELECTRICAL ENGR      1.0   \n",
       "\n",
       "                                 status  year  \n",
       "0               Continuing - Same Major     1  \n",
       "1               Continuing - Same Major     1  \n",
       "2  Cont in Another Major - Same College     1  \n",
       "3  Cont in Another Major - Same College     1  \n",
       "4                Cont - Another College     1  "
      ]
     },
     "execution_count": 350,
     "metadata": {},
     "output_type": "execute_result"
    }
   ],
   "source": [
    "data_combined.head()"
   ]
  },
  {
   "cell_type": "markdown",
   "metadata": {},
   "source": [
    "### Insert Data"
   ]
  },
  {
   "cell_type": "code",
   "execution_count": 348,
   "metadata": {
    "collapsed": false
   },
   "outputs": [],
   "source": [
    "import psycopg2"
   ]
  },
  {
   "cell_type": "code",
   "execution_count": 349,
   "metadata": {
    "collapsed": true
   },
   "outputs": [],
   "source": [
    "conn = psycopg2.connect(\"dbname=cnssankey user=xiya\")\n",
    "cur = conn.cursor()\n",
    "\n",
    "cur.execute(\"DELETE FROM sankey_studentflow;\")\n",
    "\n",
    "for row in data_combined.as_matrix():\n",
    "    cur.execute(\"INSERT INTO sankey_studentflow (\" + \",\".join(data_combined.columns.tolist()) + \") VALUES (%s\" + \", %s\" * (len(row)-1) + \");\" , row.tolist())\n",
    "\n",
    "conn.commit()\n",
    "cur.close()\n",
    "conn.close()"
   ]
  },
  {
   "cell_type": "code",
   "execution_count": null,
   "metadata": {
    "collapsed": true
   },
   "outputs": [],
   "source": []
  }
 ],
 "metadata": {
  "kernelspec": {
   "display_name": "Python [Root]",
   "language": "python",
   "name": "Python [Root]"
  },
  "language_info": {
   "codemirror_mode": {
    "name": "ipython",
    "version": 3
   },
   "file_extension": ".py",
   "mimetype": "text/x-python",
   "name": "python",
   "nbconvert_exporter": "python",
   "pygments_lexer": "ipython3",
   "version": "3.5.2"
  }
 },
 "nbformat": 4,
 "nbformat_minor": 2
}
